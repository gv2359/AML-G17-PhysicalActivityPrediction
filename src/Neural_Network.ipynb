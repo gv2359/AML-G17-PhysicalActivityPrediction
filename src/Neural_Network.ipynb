{
  "metadata": {
    "kernelspec": {
      "display_name": "Python 3",
      "name": "python3"
    },
    "language_info": {
      "name": "python",
      "version": "3.10.14",
      "mimetype": "text/x-python",
      "codemirror_mode": {
        "name": "ipython",
        "version": 3
      },
      "pygments_lexer": "ipython3",
      "nbconvert_exporter": "python",
      "file_extension": ".py"
    },
    "kaggle": {
      "accelerator": "gpu",
      "dataSources": [
        {
          "sourceId": 9867191,
          "sourceType": "datasetVersion",
          "datasetId": 6056624
        }
      ],
      "dockerImageVersionId": 30787,
      "isInternetEnabled": true,
      "language": "python",
      "sourceType": "notebook",
      "isGpuEnabled": true
    },
    "colab": {
      "provenance": [],
      "gpuType": "T4"
    },
    "accelerator": "GPU"
  },
  "nbformat_minor": 0,
  "nbformat": 4,
  "cells": [
    {
      "cell_type": "code",
      "source": [
        "import pandas as pd\n",
        "import numpy as np\n",
        "import matplotlib.pyplot as plt\n",
        "import seaborn as sns\n",
        "import pandas as pd\n",
        "import numpy as np\n",
        "from sklearn.model_selection import train_test_split\n",
        "from sklearn.preprocessing import StandardScaler\n",
        "from tensorflow.keras.models import Sequential\n",
        "from tensorflow.keras.layers import Dense, Dropout\n",
        "from tensorflow.keras.utils import to_categorical\n",
        "from sklearn.model_selection import GridSearchCV\n",
        "from tensorflow.keras.layers import BatchNormalization\n"
      ],
      "metadata": {
        "_uuid": "8f2839f25d086af736a60e9eeb907d3b93b6e0e5",
        "_cell_guid": "b1076dfc-b9ad-4769-8c92-a6c4dae69d19",
        "trusted": true,
        "execution": {
          "iopub.status.busy": "2024-11-26T21:28:24.258394Z",
          "iopub.execute_input": "2024-11-26T21:28:24.258825Z",
          "iopub.status.idle": "2024-11-26T21:28:24.263870Z",
          "shell.execute_reply.started": "2024-11-26T21:28:24.258779Z",
          "shell.execute_reply": "2024-11-26T21:28:24.262976Z"
        },
        "id": "Oe4JlNlQe1wE"
      },
      "outputs": [],
      "execution_count": null
    },
    {
      "cell_type": "code",
      "source": [
        "data = pd.read_csv('Physical Activity.csv')"
      ],
      "metadata": {
        "trusted": true,
        "execution": {
          "iopub.status.busy": "2024-11-26T21:23:55.685070Z",
          "iopub.execute_input": "2024-11-26T21:23:55.685423Z",
          "iopub.status.idle": "2024-11-26T21:24:14.280910Z",
          "shell.execute_reply.started": "2024-11-26T21:23:55.685394Z",
          "shell.execute_reply": "2024-11-26T21:24:14.279959Z"
        },
        "id": "yu_o_O60e1wH"
      },
      "outputs": [],
      "execution_count": null
    },
    {
      "cell_type": "code",
      "source": [
        "data.shape"
      ],
      "metadata": {
        "trusted": true,
        "execution": {
          "iopub.status.busy": "2024-11-26T21:24:23.011432Z",
          "iopub.execute_input": "2024-11-26T21:24:23.011995Z",
          "iopub.status.idle": "2024-11-26T21:24:23.053776Z",
          "shell.execute_reply.started": "2024-11-26T21:24:23.011962Z",
          "shell.execute_reply": "2024-11-26T21:24:23.052810Z"
        },
        "colab": {
          "base_uri": "https://localhost:8080/"
        },
        "id": "HEsgtrJMe1wH",
        "outputId": "a734d375-0dab-4a22-c432-83c615a2e281"
      },
      "outputs": [
        {
          "output_type": "execute_result",
          "data": {
            "text/plain": [
              "(2864056, 33)"
            ]
          },
          "metadata": {},
          "execution_count": 19
        }
      ],
      "execution_count": null
    },
    {
      "cell_type": "code",
      "source": [
        "data = data[data['activityID'] != 'transient activities']"
      ],
      "metadata": {
        "trusted": true,
        "execution": {
          "iopub.status.busy": "2024-11-26T21:24:29.561812Z",
          "iopub.execute_input": "2024-11-26T21:24:29.562511Z",
          "iopub.status.idle": "2024-11-26T21:24:29.961010Z",
          "shell.execute_reply.started": "2024-11-26T21:24:29.562475Z",
          "shell.execute_reply": "2024-11-26T21:24:29.960045Z"
        },
        "id": "yXE_77vEe1wI"
      },
      "outputs": [],
      "execution_count": null
    },
    {
      "cell_type": "code",
      "source": [
        "data.drop(columns=['PeopleId'],inplace=True)"
      ],
      "metadata": {
        "trusted": true,
        "execution": {
          "iopub.status.busy": "2024-11-26T21:25:00.448597Z",
          "iopub.execute_input": "2024-11-26T21:25:00.448920Z",
          "iopub.status.idle": "2024-11-26T21:25:00.615320Z",
          "shell.execute_reply.started": "2024-11-26T21:25:00.448890Z",
          "shell.execute_reply": "2024-11-26T21:25:00.614623Z"
        },
        "id": "kvh2l8qVe1wI"
      },
      "outputs": [],
      "execution_count": null
    },
    {
      "cell_type": "code",
      "source": [
        "null_values = data.isnull().sum()\n"
      ],
      "metadata": {
        "trusted": true,
        "execution": {
          "iopub.status.busy": "2024-11-26T21:25:05.410097Z",
          "iopub.execute_input": "2024-11-26T21:25:05.410449Z",
          "iopub.status.idle": "2024-11-26T21:25:05.570945Z",
          "shell.execute_reply.started": "2024-11-26T21:25:05.410420Z",
          "shell.execute_reply": "2024-11-26T21:25:05.570194Z"
        },
        "id": "HJvTLrkWe1wJ"
      },
      "outputs": [],
      "execution_count": null
    },
    {
      "cell_type": "code",
      "source": [
        "data.dropna(inplace=True)"
      ],
      "metadata": {
        "trusted": true,
        "execution": {
          "iopub.status.busy": "2024-11-26T21:25:08.897972Z",
          "iopub.execute_input": "2024-11-26T21:25:08.898741Z",
          "iopub.status.idle": "2024-11-26T21:25:09.218720Z",
          "shell.execute_reply.started": "2024-11-26T21:25:08.898706Z",
          "shell.execute_reply": "2024-11-26T21:25:09.218002Z"
        },
        "id": "FY3dAW42e1wJ"
      },
      "outputs": [],
      "execution_count": null
    },
    {
      "cell_type": "code",
      "source": [
        "null_values = data.isnull().sum()\n"
      ],
      "metadata": {
        "trusted": true,
        "execution": {
          "iopub.status.busy": "2024-11-26T21:25:11.919578Z",
          "iopub.execute_input": "2024-11-26T21:25:11.920013Z",
          "iopub.status.idle": "2024-11-26T21:25:12.097196Z",
          "shell.execute_reply.started": "2024-11-26T21:25:11.919967Z",
          "shell.execute_reply": "2024-11-26T21:25:12.096183Z"
        },
        "id": "zouEXXiOe1wJ"
      },
      "outputs": [],
      "execution_count": null
    },
    {
      "cell_type": "code",
      "source": [
        "y=data['activityID']\n",
        "#data.drop(columns=['activityID'],inplace=True)"
      ],
      "metadata": {
        "trusted": true,
        "execution": {
          "iopub.status.busy": "2024-11-14T02:31:45.036967Z",
          "iopub.execute_input": "2024-11-14T02:31:45.037870Z",
          "iopub.status.idle": "2024-11-14T02:31:45.042087Z",
          "shell.execute_reply.started": "2024-11-14T02:31:45.037828Z",
          "shell.execute_reply": "2024-11-14T02:31:45.041191Z"
        },
        "id": "FpClFgl_e1wK"
      },
      "outputs": [],
      "execution_count": null
    },
    {
      "cell_type": "code",
      "source": [
        "print(y.shape)\n",
        "print(data.shape)"
      ],
      "metadata": {
        "trusted": true,
        "execution": {
          "iopub.status.busy": "2024-11-14T02:31:46.830300Z",
          "iopub.execute_input": "2024-11-14T02:31:46.830650Z",
          "iopub.status.idle": "2024-11-14T02:31:46.835709Z",
          "shell.execute_reply.started": "2024-11-14T02:31:46.830618Z",
          "shell.execute_reply": "2024-11-14T02:31:46.834717Z"
        },
        "colab": {
          "base_uri": "https://localhost:8080/"
        },
        "id": "S1K9vdNBe1wK",
        "outputId": "a57308c1-507c-461b-f269-eb1c883289e0"
      },
      "outputs": [
        {
          "output_type": "stream",
          "name": "stdout",
          "text": [
            "(1936481,)\n",
            "(1936481, 32)\n"
          ]
        }
      ],
      "execution_count": null
    },
    {
      "cell_type": "markdown",
      "source": [
        "<h1> Model Building</h1>"
      ],
      "metadata": {
        "id": "3rcxme3qe1wM"
      }
    },
    {
      "cell_type": "code",
      "source": [
        "x = data.drop('activityID', axis=1)  # Features (replace 'activityID' with your target variable name)\n",
        "y = data['activityID']"
      ],
      "metadata": {
        "trusted": true,
        "execution": {
          "iopub.status.busy": "2024-11-26T21:26:49.555044Z",
          "iopub.execute_input": "2024-11-26T21:26:49.555394Z",
          "iopub.status.idle": "2024-11-26T21:26:49.710118Z",
          "shell.execute_reply.started": "2024-11-26T21:26:49.555363Z",
          "shell.execute_reply": "2024-11-26T21:26:49.709131Z"
        },
        "id": "MQPjmUEDe1wO"
      },
      "outputs": [],
      "execution_count": null
    },
    {
      "cell_type": "code",
      "source": [
        "y.head()"
      ],
      "metadata": {
        "trusted": true,
        "execution": {
          "iopub.status.busy": "2024-11-26T21:29:02.324805Z",
          "iopub.execute_input": "2024-11-26T21:29:02.325714Z",
          "iopub.status.idle": "2024-11-26T21:29:02.333637Z",
          "shell.execute_reply.started": "2024-11-26T21:29:02.325660Z",
          "shell.execute_reply": "2024-11-26T21:29:02.332623Z"
        },
        "colab": {
          "base_uri": "https://localhost:8080/",
          "height": 241
        },
        "id": "YwxdWIWBe1wO",
        "outputId": "ee242a4d-ef1b-4884-8f85-1c3ca825fe9d"
      },
      "outputs": [
        {
          "output_type": "execute_result",
          "data": {
            "text/plain": [
              "2928    lying\n",
              "2929    lying\n",
              "2930    lying\n",
              "2931    lying\n",
              "2932    lying\n",
              "Name: activityID, dtype: object"
            ],
            "text/html": [
              "<div>\n",
              "<style scoped>\n",
              "    .dataframe tbody tr th:only-of-type {\n",
              "        vertical-align: middle;\n",
              "    }\n",
              "\n",
              "    .dataframe tbody tr th {\n",
              "        vertical-align: top;\n",
              "    }\n",
              "\n",
              "    .dataframe thead th {\n",
              "        text-align: right;\n",
              "    }\n",
              "</style>\n",
              "<table border=\"1\" class=\"dataframe\">\n",
              "  <thead>\n",
              "    <tr style=\"text-align: right;\">\n",
              "      <th></th>\n",
              "      <th>activityID</th>\n",
              "    </tr>\n",
              "  </thead>\n",
              "  <tbody>\n",
              "    <tr>\n",
              "      <th>2928</th>\n",
              "      <td>lying</td>\n",
              "    </tr>\n",
              "    <tr>\n",
              "      <th>2929</th>\n",
              "      <td>lying</td>\n",
              "    </tr>\n",
              "    <tr>\n",
              "      <th>2930</th>\n",
              "      <td>lying</td>\n",
              "    </tr>\n",
              "    <tr>\n",
              "      <th>2931</th>\n",
              "      <td>lying</td>\n",
              "    </tr>\n",
              "    <tr>\n",
              "      <th>2932</th>\n",
              "      <td>lying</td>\n",
              "    </tr>\n",
              "  </tbody>\n",
              "</table>\n",
              "</div><br><label><b>dtype:</b> object</label>"
            ]
          },
          "metadata": {},
          "execution_count": 28
        }
      ],
      "execution_count": null
    },
    {
      "cell_type": "code",
      "source": [
        "from sklearn.preprocessing import LabelEncoder\n",
        "label_encoder = LabelEncoder()\n",
        "y = label_encoder.fit_transform(y)\n",
        "y = to_categorical(y,num_classes=12)"
      ],
      "metadata": {
        "trusted": true,
        "execution": {
          "iopub.status.busy": "2024-11-26T21:52:53.388462Z",
          "iopub.execute_input": "2024-11-26T21:52:53.388815Z",
          "iopub.status.idle": "2024-11-26T21:52:53.601395Z",
          "shell.execute_reply.started": "2024-11-26T21:52:53.388784Z",
          "shell.execute_reply": "2024-11-26T21:52:53.600414Z"
        },
        "id": "7Y_Eo8Lge1wO"
      },
      "outputs": [],
      "execution_count": null
    },
    {
      "cell_type": "code",
      "source": [
        "x_dev, x_test, y_dev, y_test = train_test_split(x, y, test_size=0.3, random_state=42)"
      ],
      "metadata": {
        "trusted": true,
        "execution": {
          "iopub.status.busy": "2024-11-26T21:52:56.751488Z",
          "iopub.execute_input": "2024-11-26T21:52:56.752319Z",
          "iopub.status.idle": "2024-11-26T21:52:57.588967Z",
          "shell.execute_reply.started": "2024-11-26T21:52:56.752282Z",
          "shell.execute_reply": "2024-11-26T21:52:57.587902Z"
        },
        "id": "vgNhut6-e1wP"
      },
      "outputs": [],
      "execution_count": null
    },
    {
      "cell_type": "code",
      "source": [
        "x_train, x_val, y_train, y_val = train_test_split(x_dev, y_dev, test_size=0.3, random_state=42)"
      ],
      "metadata": {
        "trusted": true,
        "execution": {
          "iopub.status.busy": "2024-11-26T21:53:03.408610Z",
          "iopub.execute_input": "2024-11-26T21:53:03.408947Z",
          "iopub.status.idle": "2024-11-26T21:53:04.110918Z",
          "shell.execute_reply.started": "2024-11-26T21:53:03.408918Z",
          "shell.execute_reply": "2024-11-26T21:53:04.109954Z"
        },
        "id": "-P9526i0e1wP"
      },
      "outputs": [],
      "execution_count": null
    },
    {
      "cell_type": "code",
      "source": [
        "scaler = StandardScaler()\n",
        "x_train = scaler.fit_transform(x_train)\n",
        "x_val = scaler.transform(x_val)\n",
        "x_test = scaler.transform(x_test)"
      ],
      "metadata": {
        "trusted": true,
        "execution": {
          "iopub.status.busy": "2024-11-26T21:52:59.691001Z",
          "iopub.execute_input": "2024-11-26T21:52:59.691673Z",
          "iopub.status.idle": "2024-11-26T21:53:00.304537Z",
          "shell.execute_reply.started": "2024-11-26T21:52:59.691638Z",
          "shell.execute_reply": "2024-11-26T21:53:00.303559Z"
        },
        "id": "F3nn7v5re1wP"
      },
      "outputs": [],
      "execution_count": null
    },
    {
      "cell_type": "markdown",
      "source": [
        "<h1> Neural Network </h1>"
      ],
      "metadata": {
        "id": "LRcC7iwsfrWV"
      }
    },
    {
      "cell_type": "code",
      "source": [
        "batch_size = [16,32]\n",
        "batch_size_adam_models = []\n",
        "batch_size_adam_accuracy = []\n",
        "batch_size_adam_history = []\n",
        "\n",
        "batch_size_sgd_models = []\n",
        "batch_size_sgd_accuracy = []\n",
        "batch_size_sgd_history = []"
      ],
      "metadata": {
        "id": "4D-fAK3a4YKr"
      },
      "execution_count": null,
      "outputs": []
    },
    {
      "cell_type": "code",
      "source": [
        "for batch in batch_size:\n",
        " model_normal = Sequential()\n",
        " model_normal.add(Dense(32, activation='relu'))\n",
        " model_normal.add(BatchNormalization())\n",
        " model_normal.add(Dense(32, activation='relu'))\n",
        " model_normal.add(BatchNormalization())\n",
        " model_normal.add(Dense(64, activation='relu'))\n",
        " model_normal.add(BatchNormalization())\n",
        " model_normal.add(Dense(12, activation='softmax'))\n",
        " model_normal.compile(optimizer='adam', loss='categorical_crossentropy', metrics=['accuracy'])\n",
        " model = model_normal.fit(x_train, y_train,validation_data=(x_val,y_val), epochs=20, batch_size=batch)\n",
        " batch_size_adam_models.append(model_normal)\n",
        " batch_size_adam_accuracy.append(model.history['val_accuracy'][-1])\n",
        " batch_size_adam_history.append(model)"
      ],
      "metadata": {
        "trusted": true,
        "execution": {
          "iopub.status.busy": "2024-11-26T21:57:28.615230Z",
          "iopub.execute_input": "2024-11-26T21:57:28.615571Z",
          "iopub.status.idle": "2024-11-26T21:57:28.654415Z",
          "shell.execute_reply.started": "2024-11-26T21:57:28.615543Z",
          "shell.execute_reply": "2024-11-26T21:57:28.653718Z"
        },
        "id": "Kh0gRcAge1wQ",
        "colab": {
          "base_uri": "https://localhost:8080/"
        },
        "collapsed": true,
        "outputId": "3dec64f2-100a-4e94-d70b-5a04154757d7"
      },
      "outputs": [
        {
          "output_type": "stream",
          "name": "stdout",
          "text": [
            "Epoch 1/20\n",
            "\u001b[1m59305/59305\u001b[0m \u001b[32m━━━━━━━━━━━━━━━━━━━━\u001b[0m\u001b[37m\u001b[0m \u001b[1m176s\u001b[0m 3ms/step - accuracy: 0.8465 - loss: 0.4647 - val_accuracy: 0.9642 - val_loss: 0.1070\n",
            "Epoch 2/20\n",
            "\u001b[1m59305/59305\u001b[0m \u001b[32m━━━━━━━━━━━━━━━━━━━━\u001b[0m\u001b[37m\u001b[0m \u001b[1m163s\u001b[0m 3ms/step - accuracy: 0.9383 - loss: 0.1799 - val_accuracy: 0.9748 - val_loss: 0.0753\n",
            "Epoch 3/20\n",
            "\u001b[1m59305/59305\u001b[0m \u001b[32m━━━━━━━━━━━━━━━━━━━━\u001b[0m\u001b[37m\u001b[0m \u001b[1m163s\u001b[0m 3ms/step - accuracy: 0.9490 - loss: 0.1466 - val_accuracy: 0.9783 - val_loss: 0.0636\n",
            "Epoch 4/20\n",
            "\u001b[1m59305/59305\u001b[0m \u001b[32m━━━━━━━━━━━━━━━━━━━━\u001b[0m\u001b[37m\u001b[0m \u001b[1m201s\u001b[0m 3ms/step - accuracy: 0.9553 - loss: 0.1297 - val_accuracy: 0.9815 - val_loss: 0.0542\n",
            "Epoch 5/20\n",
            "\u001b[1m59305/59305\u001b[0m \u001b[32m━━━━━━━━━━━━━━━━━━━━\u001b[0m\u001b[37m\u001b[0m \u001b[1m167s\u001b[0m 3ms/step - accuracy: 0.9582 - loss: 0.1202 - val_accuracy: 0.9827 - val_loss: 0.0490\n",
            "Epoch 6/20\n",
            "\u001b[1m59305/59305\u001b[0m \u001b[32m━━━━━━━━━━━━━━━━━━━━\u001b[0m\u001b[37m\u001b[0m \u001b[1m198s\u001b[0m 3ms/step - accuracy: 0.9607 - loss: 0.1136 - val_accuracy: 0.9839 - val_loss: 0.0494\n",
            "Epoch 7/20\n",
            "\u001b[1m59305/59305\u001b[0m \u001b[32m━━━━━━━━━━━━━━━━━━━━\u001b[0m\u001b[37m\u001b[0m \u001b[1m200s\u001b[0m 3ms/step - accuracy: 0.9620 - loss: 0.1091 - val_accuracy: 0.9838 - val_loss: 0.0457\n",
            "Epoch 8/20\n",
            "\u001b[1m59305/59305\u001b[0m \u001b[32m━━━━━━━━━━━━━━━━━━━━\u001b[0m\u001b[37m\u001b[0m \u001b[1m202s\u001b[0m 3ms/step - accuracy: 0.9629 - loss: 0.1067 - val_accuracy: 0.9856 - val_loss: 0.0416\n",
            "Epoch 9/20\n",
            "\u001b[1m59305/59305\u001b[0m \u001b[32m━━━━━━━━━━━━━━━━━━━━\u001b[0m\u001b[37m\u001b[0m \u001b[1m166s\u001b[0m 3ms/step - accuracy: 0.9640 - loss: 0.1029 - val_accuracy: 0.9862 - val_loss: 0.0404\n",
            "Epoch 10/20\n",
            "\u001b[1m59305/59305\u001b[0m \u001b[32m━━━━━━━━━━━━━━━━━━━━\u001b[0m\u001b[37m\u001b[0m \u001b[1m166s\u001b[0m 3ms/step - accuracy: 0.9652 - loss: 0.1000 - val_accuracy: 0.9859 - val_loss: 0.0408\n",
            "Epoch 11/20\n",
            "\u001b[1m59305/59305\u001b[0m \u001b[32m━━━━━━━━━━━━━━━━━━━━\u001b[0m\u001b[37m\u001b[0m \u001b[1m202s\u001b[0m 3ms/step - accuracy: 0.9663 - loss: 0.0969 - val_accuracy: 0.9873 - val_loss: 0.0365\n",
            "Epoch 12/20\n",
            "\u001b[1m59305/59305\u001b[0m \u001b[32m━━━━━━━━━━━━━━━━━━━━\u001b[0m\u001b[37m\u001b[0m \u001b[1m161s\u001b[0m 3ms/step - accuracy: 0.9670 - loss: 0.0947 - val_accuracy: 0.9864 - val_loss: 0.0391\n",
            "Epoch 13/20\n",
            "\u001b[1m59305/59305\u001b[0m \u001b[32m━━━━━━━━━━━━━━━━━━━━\u001b[0m\u001b[37m\u001b[0m \u001b[1m162s\u001b[0m 3ms/step - accuracy: 0.9673 - loss: 0.0932 - val_accuracy: 0.9872 - val_loss: 0.0375\n",
            "Epoch 14/20\n",
            "\u001b[1m59305/59305\u001b[0m \u001b[32m━━━━━━━━━━━━━━━━━━━━\u001b[0m\u001b[37m\u001b[0m \u001b[1m165s\u001b[0m 3ms/step - accuracy: 0.9682 - loss: 0.0899 - val_accuracy: 0.9870 - val_loss: 0.0372\n",
            "Epoch 15/20\n",
            "\u001b[1m59305/59305\u001b[0m \u001b[32m━━━━━━━━━━━━━━━━━━━━\u001b[0m\u001b[37m\u001b[0m \u001b[1m162s\u001b[0m 3ms/step - accuracy: 0.9688 - loss: 0.0882 - val_accuracy: 0.9875 - val_loss: 0.0358\n",
            "Epoch 16/20\n",
            "\u001b[1m59305/59305\u001b[0m \u001b[32m━━━━━━━━━━━━━━━━━━━━\u001b[0m\u001b[37m\u001b[0m \u001b[1m202s\u001b[0m 3ms/step - accuracy: 0.9695 - loss: 0.0870 - val_accuracy: 0.9869 - val_loss: 0.0363\n",
            "Epoch 17/20\n",
            "\u001b[1m59305/59305\u001b[0m \u001b[32m━━━━━━━━━━━━━━━━━━━━\u001b[0m\u001b[37m\u001b[0m \u001b[1m160s\u001b[0m 3ms/step - accuracy: 0.9701 - loss: 0.0856 - val_accuracy: 0.9883 - val_loss: 0.0345\n",
            "Epoch 18/20\n",
            "\u001b[1m59305/59305\u001b[0m \u001b[32m━━━━━━━━━━━━━━━━━━━━\u001b[0m\u001b[37m\u001b[0m \u001b[1m202s\u001b[0m 3ms/step - accuracy: 0.9704 - loss: 0.0837 - val_accuracy: 0.9884 - val_loss: 0.0333\n",
            "Epoch 19/20\n",
            "\u001b[1m59305/59305\u001b[0m \u001b[32m━━━━━━━━━━━━━━━━━━━━\u001b[0m\u001b[37m\u001b[0m \u001b[1m160s\u001b[0m 3ms/step - accuracy: 0.9707 - loss: 0.0836 - val_accuracy: 0.9881 - val_loss: 0.0338\n",
            "Epoch 20/20\n",
            "\u001b[1m59305/59305\u001b[0m \u001b[32m━━━━━━━━━━━━━━━━━━━━\u001b[0m\u001b[37m\u001b[0m \u001b[1m165s\u001b[0m 3ms/step - accuracy: 0.9710 - loss: 0.0820 - val_accuracy: 0.9884 - val_loss: 0.0340\n",
            "Epoch 1/20\n",
            "\u001b[1m29653/29653\u001b[0m \u001b[32m━━━━━━━━━━━━━━━━━━━━\u001b[0m\u001b[37m\u001b[0m \u001b[1m83s\u001b[0m 3ms/step - accuracy: 0.8675 - loss: 0.4059 - val_accuracy: 0.9685 - val_loss: 0.0911\n",
            "Epoch 2/20\n",
            "\u001b[1m29653/29653\u001b[0m \u001b[32m━━━━━━━━━━━━━━━━━━━━\u001b[0m\u001b[37m\u001b[0m \u001b[1m78s\u001b[0m 3ms/step - accuracy: 0.9536 - loss: 0.1333 - val_accuracy: 0.9790 - val_loss: 0.0603\n",
            "Epoch 3/20\n",
            "\u001b[1m29653/29653\u001b[0m \u001b[32m━━━━━━━━━━━━━━━━━━━━\u001b[0m\u001b[37m\u001b[0m \u001b[1m84s\u001b[0m 3ms/step - accuracy: 0.9648 - loss: 0.1010 - val_accuracy: 0.9841 - val_loss: 0.0461\n",
            "Epoch 4/20\n",
            "\u001b[1m29653/29653\u001b[0m \u001b[32m━━━━━━━━━━━━━━━━━━━━\u001b[0m\u001b[37m\u001b[0m \u001b[1m79s\u001b[0m 3ms/step - accuracy: 0.9700 - loss: 0.0851 - val_accuracy: 0.9859 - val_loss: 0.0407\n",
            "Epoch 5/20\n",
            "\u001b[1m29653/29653\u001b[0m \u001b[32m━━━━━━━━━━━━━━━━━━━━\u001b[0m\u001b[37m\u001b[0m \u001b[1m85s\u001b[0m 3ms/step - accuracy: 0.9727 - loss: 0.0771 - val_accuracy: 0.9889 - val_loss: 0.0324\n",
            "Epoch 6/20\n",
            "\u001b[1m29653/29653\u001b[0m \u001b[32m━━━━━━━━━━━━━━━━━━━━\u001b[0m\u001b[37m\u001b[0m \u001b[1m82s\u001b[0m 3ms/step - accuracy: 0.9756 - loss: 0.0688 - val_accuracy: 0.9883 - val_loss: 0.0340\n",
            "Epoch 7/20\n",
            "\u001b[1m29653/29653\u001b[0m \u001b[32m━━━━━━━━━━━━━━━━━━━━\u001b[0m\u001b[37m\u001b[0m \u001b[1m79s\u001b[0m 3ms/step - accuracy: 0.9769 - loss: 0.0653 - val_accuracy: 0.9902 - val_loss: 0.0285\n",
            "Epoch 8/20\n",
            "\u001b[1m29653/29653\u001b[0m \u001b[32m━━━━━━━━━━━━━━━━━━━━\u001b[0m\u001b[37m\u001b[0m \u001b[1m81s\u001b[0m 3ms/step - accuracy: 0.9788 - loss: 0.0603 - val_accuracy: 0.9898 - val_loss: 0.0291\n",
            "Epoch 9/20\n",
            "\u001b[1m29653/29653\u001b[0m \u001b[32m━━━━━━━━━━━━━━━━━━━━\u001b[0m\u001b[37m\u001b[0m \u001b[1m79s\u001b[0m 3ms/step - accuracy: 0.9795 - loss: 0.0570 - val_accuracy: 0.9906 - val_loss: 0.0273\n",
            "Epoch 10/20\n",
            "\u001b[1m29653/29653\u001b[0m \u001b[32m━━━━━━━━━━━━━━━━━━━━\u001b[0m\u001b[37m\u001b[0m \u001b[1m79s\u001b[0m 3ms/step - accuracy: 0.9804 - loss: 0.0549 - val_accuracy: 0.9914 - val_loss: 0.0249\n",
            "Epoch 11/20\n",
            "\u001b[1m29653/29653\u001b[0m \u001b[32m━━━━━━━━━━━━━━━━━━━━\u001b[0m\u001b[37m\u001b[0m \u001b[1m85s\u001b[0m 3ms/step - accuracy: 0.9813 - loss: 0.0522 - val_accuracy: 0.9906 - val_loss: 0.0246\n",
            "Epoch 12/20\n",
            "\u001b[1m29653/29653\u001b[0m \u001b[32m━━━━━━━━━━━━━━━━━━━━\u001b[0m\u001b[37m\u001b[0m \u001b[1m78s\u001b[0m 3ms/step - accuracy: 0.9819 - loss: 0.0503 - val_accuracy: 0.9918 - val_loss: 0.0225\n",
            "Epoch 13/20\n",
            "\u001b[1m29653/29653\u001b[0m \u001b[32m━━━━━━━━━━━━━━━━━━━━\u001b[0m\u001b[37m\u001b[0m \u001b[1m80s\u001b[0m 3ms/step - accuracy: 0.9825 - loss: 0.0487 - val_accuracy: 0.9923 - val_loss: 0.0214\n",
            "Epoch 14/20\n",
            "\u001b[1m29653/29653\u001b[0m \u001b[32m━━━━━━━━━━━━━━━━━━━━\u001b[0m\u001b[37m\u001b[0m \u001b[1m79s\u001b[0m 3ms/step - accuracy: 0.9829 - loss: 0.0477 - val_accuracy: 0.9929 - val_loss: 0.0206\n",
            "Epoch 15/20\n",
            "\u001b[1m29653/29653\u001b[0m \u001b[32m━━━━━━━━━━━━━━━━━━━━\u001b[0m\u001b[37m\u001b[0m \u001b[1m84s\u001b[0m 3ms/step - accuracy: 0.9832 - loss: 0.0466 - val_accuracy: 0.9934 - val_loss: 0.0193\n",
            "Epoch 16/20\n",
            "\u001b[1m29653/29653\u001b[0m \u001b[32m━━━━━━━━━━━━━━━━━━━━\u001b[0m\u001b[37m\u001b[0m \u001b[1m82s\u001b[0m 3ms/step - accuracy: 0.9839 - loss: 0.0450 - val_accuracy: 0.9921 - val_loss: 0.0223\n",
            "Epoch 17/20\n",
            "\u001b[1m29653/29653\u001b[0m \u001b[32m━━━━━━━━━━━━━━━━━━━━\u001b[0m\u001b[37m\u001b[0m \u001b[1m79s\u001b[0m 3ms/step - accuracy: 0.9836 - loss: 0.0451 - val_accuracy: 0.9930 - val_loss: 0.0198\n",
            "Epoch 18/20\n",
            "\u001b[1m29653/29653\u001b[0m \u001b[32m━━━━━━━━━━━━━━━━━━━━\u001b[0m\u001b[37m\u001b[0m \u001b[1m79s\u001b[0m 3ms/step - accuracy: 0.9844 - loss: 0.0435 - val_accuracy: 0.9918 - val_loss: 0.0222\n",
            "Epoch 19/20\n",
            "\u001b[1m29653/29653\u001b[0m \u001b[32m━━━━━━━━━━━━━━━━━━━━\u001b[0m\u001b[37m\u001b[0m \u001b[1m85s\u001b[0m 3ms/step - accuracy: 0.9841 - loss: 0.0438 - val_accuracy: 0.9932 - val_loss: 0.0185\n",
            "Epoch 20/20\n",
            "\u001b[1m29653/29653\u001b[0m \u001b[32m━━━━━━━━━━━━━━━━━━━━\u001b[0m\u001b[37m\u001b[0m \u001b[1m77s\u001b[0m 3ms/step - accuracy: 0.9847 - loss: 0.0425 - val_accuracy: 0.9935 - val_loss: 0.0183\n"
          ]
        }
      ],
      "execution_count": null
    },
    {
      "cell_type": "code",
      "source": [
        "for batch in batch_size:\n",
        " model_normal = Sequential()\n",
        " model_normal.add(Dense(32, activation='relu'))\n",
        " model_normal.add(BatchNormalization())\n",
        " model_normal.add(Dense(32, activation='relu'))\n",
        " model_normal.add(BatchNormalization())\n",
        " model_normal.add(Dense(64, activation='relu'))\n",
        " model_normal.add(BatchNormalization())\n",
        " model_normal.add(Dense(12, activation='softmax'))\n",
        " model_normal.compile(optimizer='SGD', loss='categorical_crossentropy', metrics=['accuracy'])\n",
        " model = model_normal.fit(x_train, y_train,validation_data=(x_val,y_val), epochs=20, batch_size=batch)\n",
        " batch_size_sgd_models.append(model_normal)\n",
        " batch_size_sgd_accuracy.append(model.history['val_accuracy'][-1])\n",
        " batch_size_sgd_history.append(model)"
      ],
      "metadata": {
        "trusted": true,
        "execution": {
          "iopub.status.busy": "2024-11-26T21:57:31.515751Z",
          "iopub.execute_input": "2024-11-26T21:57:31.516082Z",
          "iopub.status.idle": "2024-11-26T21:59:28.465036Z",
          "shell.execute_reply.started": "2024-11-26T21:57:31.516053Z",
          "shell.execute_reply": "2024-11-26T21:59:28.463589Z"
        },
        "colab": {
          "base_uri": "https://localhost:8080/"
        },
        "id": "4tvcEL1Ue1wQ",
        "outputId": "a93fa47a-5bf8-47e6-a39a-68369b289a6a",
        "collapsed": true
      },
      "outputs": [
        {
          "output_type": "stream",
          "name": "stdout",
          "text": [
            "Epoch 1/20\n",
            "\u001b[1m59305/59305\u001b[0m \u001b[32m━━━━━━━━━━━━━━━━━━━━\u001b[0m\u001b[37m\u001b[0m \u001b[1m148s\u001b[0m 2ms/step - accuracy: 0.8319 - loss: 0.5134 - val_accuracy: 0.9536 - val_loss: 0.1376\n",
            "Epoch 2/20\n",
            "\u001b[1m59305/59305\u001b[0m \u001b[32m━━━━━━━━━━━━━━━━━━━━\u001b[0m\u001b[37m\u001b[0m \u001b[1m203s\u001b[0m 2ms/step - accuracy: 0.9241 - loss: 0.2244 - val_accuracy: 0.9667 - val_loss: 0.0994\n",
            "Epoch 3/20\n",
            "\u001b[1m59305/59305\u001b[0m \u001b[32m━━━━━━━━━━━━━━━━━━━━\u001b[0m\u001b[37m\u001b[0m \u001b[1m198s\u001b[0m 2ms/step - accuracy: 0.9389 - loss: 0.1799 - val_accuracy: 0.9716 - val_loss: 0.0839\n",
            "Epoch 4/20\n",
            "\u001b[1m59305/59305\u001b[0m \u001b[32m━━━━━━━━━━━━━━━━━━━━\u001b[0m\u001b[37m\u001b[0m \u001b[1m207s\u001b[0m 3ms/step - accuracy: 0.9463 - loss: 0.1568 - val_accuracy: 0.9774 - val_loss: 0.0660\n",
            "Epoch 5/20\n",
            "\u001b[1m59305/59305\u001b[0m \u001b[32m━━━━━━━━━━━━━━━━━━━━\u001b[0m\u001b[37m\u001b[0m \u001b[1m149s\u001b[0m 3ms/step - accuracy: 0.9519 - loss: 0.1397 - val_accuracy: 0.9797 - val_loss: 0.0586\n",
            "Epoch 6/20\n",
            "\u001b[1m59305/59305\u001b[0m \u001b[32m━━━━━━━━━━━━━━━━━━━━\u001b[0m\u001b[37m\u001b[0m \u001b[1m198s\u001b[0m 2ms/step - accuracy: 0.9549 - loss: 0.1290 - val_accuracy: 0.9806 - val_loss: 0.0569\n",
            "Epoch 7/20\n",
            "\u001b[1m59305/59305\u001b[0m \u001b[32m━━━━━━━━━━━━━━━━━━━━\u001b[0m\u001b[37m\u001b[0m \u001b[1m202s\u001b[0m 2ms/step - accuracy: 0.9587 - loss: 0.1201 - val_accuracy: 0.9818 - val_loss: 0.0519\n",
            "Epoch 8/20\n",
            "\u001b[1m59305/59305\u001b[0m \u001b[32m━━━━━━━━━━━━━━━━━━━━\u001b[0m\u001b[37m\u001b[0m \u001b[1m205s\u001b[0m 3ms/step - accuracy: 0.9604 - loss: 0.1139 - val_accuracy: 0.9825 - val_loss: 0.0475\n",
            "Epoch 9/20\n",
            "\u001b[1m59305/59305\u001b[0m \u001b[32m━━━━━━━━━━━━━━━━━━━━\u001b[0m\u001b[37m\u001b[0m \u001b[1m149s\u001b[0m 3ms/step - accuracy: 0.9627 - loss: 0.1082 - val_accuracy: 0.9837 - val_loss: 0.0468\n",
            "Epoch 10/20\n",
            "\u001b[1m59305/59305\u001b[0m \u001b[32m━━━━━━━━━━━━━━━━━━━━\u001b[0m\u001b[37m\u001b[0m \u001b[1m198s\u001b[0m 2ms/step - accuracy: 0.9637 - loss: 0.1031 - val_accuracy: 0.9850 - val_loss: 0.0434\n",
            "Epoch 11/20\n",
            "\u001b[1m59305/59305\u001b[0m \u001b[32m━━━━━━━━━━━━━━━━━━━━\u001b[0m\u001b[37m\u001b[0m \u001b[1m207s\u001b[0m 3ms/step - accuracy: 0.9648 - loss: 0.1005 - val_accuracy: 0.9860 - val_loss: 0.0400\n",
            "Epoch 12/20\n",
            "\u001b[1m59305/59305\u001b[0m \u001b[32m━━━━━━━━━━━━━━━━━━━━\u001b[0m\u001b[37m\u001b[0m \u001b[1m145s\u001b[0m 2ms/step - accuracy: 0.9665 - loss: 0.0967 - val_accuracy: 0.9869 - val_loss: 0.0378\n",
            "Epoch 13/20\n",
            "\u001b[1m59305/59305\u001b[0m \u001b[32m━━━━━━━━━━━━━━━━━━━━\u001b[0m\u001b[37m\u001b[0m \u001b[1m207s\u001b[0m 3ms/step - accuracy: 0.9668 - loss: 0.0948 - val_accuracy: 0.9855 - val_loss: 0.0401\n",
            "Epoch 14/20\n",
            "\u001b[1m59305/59305\u001b[0m \u001b[32m━━━━━━━━━━━━━━━━━━━━\u001b[0m\u001b[37m\u001b[0m \u001b[1m202s\u001b[0m 3ms/step - accuracy: 0.9681 - loss: 0.0912 - val_accuracy: 0.9868 - val_loss: 0.0389\n",
            "Epoch 15/20\n",
            "\u001b[1m59305/59305\u001b[0m \u001b[32m━━━━━━━━━━━━━━━━━━━━\u001b[0m\u001b[37m\u001b[0m \u001b[1m196s\u001b[0m 2ms/step - accuracy: 0.9686 - loss: 0.0898 - val_accuracy: 0.9876 - val_loss: 0.0357\n",
            "Epoch 16/20\n",
            "\u001b[1m59305/59305\u001b[0m \u001b[32m━━━━━━━━━━━━━━━━━━━━\u001b[0m\u001b[37m\u001b[0m \u001b[1m202s\u001b[0m 2ms/step - accuracy: 0.9698 - loss: 0.0865 - val_accuracy: 0.9877 - val_loss: 0.0357\n",
            "Epoch 17/20\n",
            "\u001b[1m59305/59305\u001b[0m \u001b[32m━━━━━━━━━━━━━━━━━━━━\u001b[0m\u001b[37m\u001b[0m \u001b[1m202s\u001b[0m 2ms/step - accuracy: 0.9699 - loss: 0.0863 - val_accuracy: 0.9882 - val_loss: 0.0343\n",
            "Epoch 18/20\n",
            "\u001b[1m59305/59305\u001b[0m \u001b[32m━━━━━━━━━━━━━━━━━━━━\u001b[0m\u001b[37m\u001b[0m \u001b[1m145s\u001b[0m 2ms/step - accuracy: 0.9706 - loss: 0.0840 - val_accuracy: 0.9878 - val_loss: 0.0360\n",
            "Epoch 19/20\n",
            "\u001b[1m59305/59305\u001b[0m \u001b[32m━━━━━━━━━━━━━━━━━━━━\u001b[0m\u001b[37m\u001b[0m \u001b[1m148s\u001b[0m 2ms/step - accuracy: 0.9709 - loss: 0.0833 - val_accuracy: 0.9884 - val_loss: 0.0339\n",
            "Epoch 20/20\n",
            "\u001b[1m59305/59305\u001b[0m \u001b[32m━━━━━━━━━━━━━━━━━━━━\u001b[0m\u001b[37m\u001b[0m \u001b[1m198s\u001b[0m 2ms/step - accuracy: 0.9712 - loss: 0.0842 - val_accuracy: 0.9883 - val_loss: 0.0332\n",
            "Epoch 1/20\n",
            "\u001b[1m29653/29653\u001b[0m \u001b[32m━━━━━━━━━━━━━━━━━━━━\u001b[0m\u001b[37m\u001b[0m \u001b[1m73s\u001b[0m 2ms/step - accuracy: 0.8295 - loss: 0.5300 - val_accuracy: 0.9581 - val_loss: 0.1307\n",
            "Epoch 2/20\n",
            "\u001b[1m29653/29653\u001b[0m \u001b[32m━━━━━━━━━━━━━━━━━━━━\u001b[0m\u001b[37m\u001b[0m \u001b[1m84s\u001b[0m 2ms/step - accuracy: 0.9394 - loss: 0.1800 - val_accuracy: 0.9701 - val_loss: 0.0914\n",
            "Epoch 3/20\n",
            "\u001b[1m29653/29653\u001b[0m \u001b[32m━━━━━━━━━━━━━━━━━━━━\u001b[0m\u001b[37m\u001b[0m \u001b[1m70s\u001b[0m 2ms/step - accuracy: 0.9536 - loss: 0.1373 - val_accuracy: 0.9789 - val_loss: 0.0638\n",
            "Epoch 4/20\n",
            "\u001b[1m29653/29653\u001b[0m \u001b[32m━━━━━━━━━━━━━━━━━━━━\u001b[0m\u001b[37m\u001b[0m \u001b[1m85s\u001b[0m 2ms/step - accuracy: 0.9614 - loss: 0.1135 - val_accuracy: 0.9817 - val_loss: 0.0544\n",
            "Epoch 5/20\n",
            "\u001b[1m29653/29653\u001b[0m \u001b[32m━━━━━━━━━━━━━━━━━━━━\u001b[0m\u001b[37m\u001b[0m \u001b[1m82s\u001b[0m 2ms/step - accuracy: 0.9662 - loss: 0.0978 - val_accuracy: 0.9851 - val_loss: 0.0444\n",
            "Epoch 6/20\n",
            "\u001b[1m29653/29653\u001b[0m \u001b[32m━━━━━━━━━━━━━━━━━━━━\u001b[0m\u001b[37m\u001b[0m \u001b[1m71s\u001b[0m 2ms/step - accuracy: 0.9694 - loss: 0.0880 - val_accuracy: 0.9863 - val_loss: 0.0410\n",
            "Epoch 7/20\n",
            "\u001b[1m29653/29653\u001b[0m \u001b[32m━━━━━━━━━━━━━━━━━━━━\u001b[0m\u001b[37m\u001b[0m \u001b[1m74s\u001b[0m 2ms/step - accuracy: 0.9717 - loss: 0.0810 - val_accuracy: 0.9880 - val_loss: 0.0356\n",
            "Epoch 8/20\n",
            "\u001b[1m29653/29653\u001b[0m \u001b[32m━━━━━━━━━━━━━━━━━━━━\u001b[0m\u001b[37m\u001b[0m \u001b[1m72s\u001b[0m 2ms/step - accuracy: 0.9735 - loss: 0.0760 - val_accuracy: 0.9885 - val_loss: 0.0336\n",
            "Epoch 9/20\n",
            "\u001b[1m29653/29653\u001b[0m \u001b[32m━━━━━━━━━━━━━━━━━━━━\u001b[0m\u001b[37m\u001b[0m \u001b[1m72s\u001b[0m 2ms/step - accuracy: 0.9757 - loss: 0.0698 - val_accuracy: 0.9895 - val_loss: 0.0299\n",
            "Epoch 10/20\n",
            "\u001b[1m29653/29653\u001b[0m \u001b[32m━━━━━━━━━━━━━━━━━━━━\u001b[0m\u001b[37m\u001b[0m \u001b[1m71s\u001b[0m 2ms/step - accuracy: 0.9760 - loss: 0.0685 - val_accuracy: 0.9886 - val_loss: 0.0324\n",
            "Epoch 11/20\n",
            "\u001b[1m29653/29653\u001b[0m \u001b[32m━━━━━━━━━━━━━━━━━━━━\u001b[0m\u001b[37m\u001b[0m \u001b[1m82s\u001b[0m 2ms/step - accuracy: 0.9771 - loss: 0.0652 - val_accuracy: 0.9889 - val_loss: 0.0318\n",
            "Epoch 12/20\n",
            "\u001b[1m29653/29653\u001b[0m \u001b[32m━━━━━━━━━━━━━━━━━━━━\u001b[0m\u001b[37m\u001b[0m \u001b[1m82s\u001b[0m 2ms/step - accuracy: 0.9783 - loss: 0.0613 - val_accuracy: 0.9902 - val_loss: 0.0273\n",
            "Epoch 13/20\n",
            "\u001b[1m29653/29653\u001b[0m \u001b[32m━━━━━━━━━━━━━━━━━━━━\u001b[0m\u001b[37m\u001b[0m \u001b[1m82s\u001b[0m 2ms/step - accuracy: 0.9795 - loss: 0.0581 - val_accuracy: 0.9912 - val_loss: 0.0249\n",
            "Epoch 14/20\n",
            "\u001b[1m29653/29653\u001b[0m \u001b[32m━━━━━━━━━━━━━━━━━━━━\u001b[0m\u001b[37m\u001b[0m \u001b[1m84s\u001b[0m 2ms/step - accuracy: 0.9796 - loss: 0.0568 - val_accuracy: 0.9919 - val_loss: 0.0238\n",
            "Epoch 15/20\n",
            "\u001b[1m29653/29653\u001b[0m \u001b[32m━━━━━━━━━━━━━━━━━━━━\u001b[0m\u001b[37m\u001b[0m \u001b[1m80s\u001b[0m 2ms/step - accuracy: 0.9807 - loss: 0.0549 - val_accuracy: 0.9924 - val_loss: 0.0224\n",
            "Epoch 16/20\n",
            "\u001b[1m29653/29653\u001b[0m \u001b[32m━━━━━━━━━━━━━━━━━━━━\u001b[0m\u001b[37m\u001b[0m \u001b[1m71s\u001b[0m 2ms/step - accuracy: 0.9813 - loss: 0.0532 - val_accuracy: 0.9926 - val_loss: 0.0215\n",
            "Epoch 17/20\n",
            "\u001b[1m29653/29653\u001b[0m \u001b[32m━━━━━━━━━━━━━━━━━━━━\u001b[0m\u001b[37m\u001b[0m \u001b[1m72s\u001b[0m 2ms/step - accuracy: 0.9818 - loss: 0.0512 - val_accuracy: 0.9918 - val_loss: 0.0228\n",
            "Epoch 18/20\n",
            "\u001b[1m29653/29653\u001b[0m \u001b[32m━━━━━━━━━━━━━━━━━━━━\u001b[0m\u001b[37m\u001b[0m \u001b[1m80s\u001b[0m 2ms/step - accuracy: 0.9821 - loss: 0.0501 - val_accuracy: 0.9926 - val_loss: 0.0210\n",
            "Epoch 19/20\n",
            "\u001b[1m29653/29653\u001b[0m \u001b[32m━━━━━━━━━━━━━━━━━━━━\u001b[0m\u001b[37m\u001b[0m \u001b[1m71s\u001b[0m 2ms/step - accuracy: 0.9825 - loss: 0.0497 - val_accuracy: 0.9923 - val_loss: 0.0209\n",
            "Epoch 20/20\n",
            "\u001b[1m29653/29653\u001b[0m \u001b[32m━━━━━━━━━━━━━━━━━━━━\u001b[0m\u001b[37m\u001b[0m \u001b[1m70s\u001b[0m 2ms/step - accuracy: 0.9826 - loss: 0.0491 - val_accuracy: 0.9930 - val_loss: 0.0198\n"
          ]
        }
      ],
      "execution_count": null
    },
    {
      "cell_type": "code",
      "source": [
        "adam_index = np.argmax(batch_size_adam_accuracy)\n",
        "best_adam_model = batch_size_adam_models[adam_index]\n",
        "sgd_index = np.argmax(batch_size_sgd_accuracy)\n",
        "best_sgd_model = batch_size_sgd_models[sgd_index]\n",
        "\n",
        "if batch_size_adam_accuracy[adam_index] > batch_size_sgd_accuracy[sgd_index]:\n",
        "  best_model = best_adam_model\n",
        "else:\n",
        "  best_model = best_sgd_model"
      ],
      "metadata": {
        "id": "MS2h6WBg6ITS"
      },
      "execution_count": null,
      "outputs": []
    },
    {
      "cell_type": "code",
      "source": [
        "best_model"
      ],
      "metadata": {
        "colab": {
          "base_uri": "https://localhost:8080/"
        },
        "id": "BVy_79wFvK06",
        "outputId": "20c8263a-1fe3-4d3a-c906-95a4fc2bef6e"
      },
      "execution_count": null,
      "outputs": [
        {
          "output_type": "execute_result",
          "data": {
            "text/plain": [
              "<Sequential name=sequential_2, built=True>"
            ]
          },
          "metadata": {},
          "execution_count": 51
        }
      ]
    },
    {
      "cell_type": "code",
      "source": [
        "from sklearn.metrics import accuracy_score, confusion_matrix, classification_report\n",
        "import numpy as np\n",
        "\n",
        "\n",
        "y_test_pred_prob = best_model.predict(x_test)\n",
        "y_test_pred = np.argmax(y_test_pred_prob, axis=1)\n",
        "y_test_actual = np.argmax(y_test, axis=1)\n",
        "\n",
        "\n",
        "accuracy = accuracy_score(y_test_actual, y_test_pred)\n",
        "print(f\"Test Set Accuracy of the best model is : {accuracy:.4f}\")\n",
        "\n",
        "\n",
        "cm = confusion_matrix(y_test_actual, y_test_pred)\n",
        "print(\"\\nConfusion Matrix:\\n\")\n",
        "y_num = np.argmax(y, axis=1)\n",
        "y_labels = label_encoder.inverse_transform(y_num)\n",
        "class_names = np.unique(y_labels)\n",
        "plt.figure(figsize=(15, 8))\n",
        "sns.heatmap(cm, annot=True, xticklabels=class_names, yticklabels=class_names)\n",
        "plt.xlabel('Predicted Labels')\n",
        "plt.ylabel('Ground Truth')\n",
        "plt.show()\n",
        "\n",
        "\n",
        "\n",
        "print(\"\\nClassification Report:\\n\")\n",
        "print(classification_report(y_test_actual, y_test_pred,digits=4))\n"
      ],
      "metadata": {
        "id": "9p4X1J8q4heg",
        "colab": {
          "base_uri": "https://localhost:8080/",
          "height": 1000
        },
        "outputId": "26f74468-e587-4a7a-f1c6-17deadc51922"
      },
      "execution_count": null,
      "outputs": [
        {
          "output_type": "stream",
          "name": "stdout",
          "text": [
            "\u001b[1m18155/18155\u001b[0m \u001b[32m━━━━━━━━━━━━━━━━━━━━\u001b[0m\u001b[37m\u001b[0m \u001b[1m25s\u001b[0m 1ms/step\n",
            "Test Set Accuracy of the best model is : 0.9938\n",
            "\n",
            "Confusion Matrix:\n",
            "\n"
          ]
        },
        {
          "output_type": "display_data",
          "data": {
            "text/plain": [
              "<Figure size 1500x800 with 2 Axes>"
            ],
            "image/png": "[encoded data removed]"
          },
          "metadata": {}
        },
        {
          "output_type": "stream",
          "name": "stdout",
          "text": [
            "\n",
            "Classification Report:\n",
            "\n",
            "              precision    recall  f1-score   support\n",
            "\n",
            "           0     0.9965    0.9990    0.9978     56797\n",
            "           1     0.9751    0.9674    0.9712     35114\n",
            "           2     0.9998    0.9981    0.9990     49337\n",
            "           3     0.9685    0.9712    0.9699     31292\n",
            "           4     0.9980    0.9896    0.9938     71903\n",
            "           5     1.0000    0.9995    0.9997     57657\n",
            "           6     0.9968    0.9924    0.9946     12901\n",
            "           7     0.9963    0.9979    0.9971     29639\n",
            "           8     0.9967    0.9986    0.9976     55505\n",
            "           9     0.9855    0.9953    0.9904     56900\n",
            "          10     0.9990    0.9988    0.9989     52502\n",
            "          11     0.9977    0.9992    0.9984     71398\n",
            "\n",
            "    accuracy                         0.9938    580945\n",
            "   macro avg     0.9925    0.9923    0.9924    580945\n",
            "weighted avg     0.9938    0.9938    0.9938    580945\n",
            "\n"
          ]
        }
      ]
    }
  ]
}